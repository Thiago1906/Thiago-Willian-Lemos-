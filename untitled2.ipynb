{
  "nbformat": 4,
  "nbformat_minor": 0,
  "metadata": {
    "colab": {
      "provenance": [],
      "toc_visible": true,
      "authorship_tag": "ABX9TyOlh4OkhMn4/QHnTWwmf9BZ",
      "include_colab_link": true
    },
    "kernelspec": {
      "name": "python3",
      "display_name": "Python 3"
    },
    "language_info": {
      "name": "python"
    }
  },
  "cells": [
    {
      "cell_type": "markdown",
      "metadata": {
        "id": "view-in-github",
        "colab_type": "text"
      },
      "source": [
        "<a href=\"https://colab.research.google.com/github/Thiago1906/Thiago-Willian-Lemos-/blob/main/untitled2.ipynb\" target=\"_parent\"><img src=\"https://colab.research.google.com/assets/colab-badge.svg\" alt=\"Open In Colab\"/></a>"
      ]
    },
    {
      "cell_type": "code",
      "source": [],
      "metadata": {
        "id": "NwFaoE5cQu0q"
      },
      "execution_count": null,
      "outputs": []
    },
    {
      "cell_type": "code",
      "execution_count": null,
      "metadata": {
        "colab": {
          "base_uri": "https://localhost:8080/"
        },
        "id": "3NRHiJAKFSDe",
        "outputId": "4ba829a2-312b-4017-c4cf-e96a99b01938"
      },
      "outputs": [
        {
          "output_type": "stream",
          "name": "stdout",
          "text": [
            "digite x:10\n",
            "Não múltiplo:\n"
          ]
        }
      ],
      "source": [
        "x = int(input(\"digite x:\"))\n",
        "r = x % 3\n",
        "if r==0:\n",
        "  print(\"Múltiplo\")\n",
        "else:\n",
        "  print(\"Não múltiplo:\")\n",
        "\n",
        "\n"
      ]
    }
  ]
}